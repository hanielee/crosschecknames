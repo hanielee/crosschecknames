{
 "cells": [
  {
   "cell_type": "code",
   "execution_count": null,
   "id": "88f4e0f9-2e9b-423d-8177-0dbf26716831",
   "metadata": {},
   "outputs": [],
   "source": [
    "# Paste the first set of names in the format of 'FirstName LastName'\n",
    "names1 = \"\"\"\n",
    "Anya Forger\n",
    "Lloyd Forger\n",
    "Yor Forger\n",
    "Victor Nikiforov\n",
    "Yuri Plisetsky\n",
    "Yuuri Katsuki\n",
    "\"\"\""
   ]
  },
  {
   "cell_type": "code",
   "execution_count": null,
   "id": "4690a163-dded-4431-ba49-cd578e4b85c1",
   "metadata": {},
   "outputs": [],
   "source": [
    "# Paste the second set of names in the format of 'FirstName LastName'\n",
    "names2 = \"\"\"\n",
    "Lloyd Forger\n",
    "NotIEEE Member\n",
    "Yor Forger\n",
    "Victor Nikiforov\n",
    "FriendOf IEEEMember\n",
    "Yor Mom\n",
    "Yuri Plisetsky\n",
    "Yuuri Katsuki\n",
    "\"\"\""
   ]
  },
  {
   "cell_type": "code",
   "execution_count": null,
   "id": "dcb2d6b6-22a7-42e7-ab89-ec8fd162b3fc",
   "metadata": {},
   "outputs": [],
   "source": [
    "names1 = set([(name.split()[0], name.split()[1]) for name in names1.strip().split(\"\\n\")])\n",
    "names2 = set([(name.split()[0], name.split()[1]) for name in names2.strip().split(\"\\n\")])\n",
    "\n",
    "print(\"DID NOT SHOW UP:\")\n",
    "for name in list(names1.difference(names2)):\n",
    "    print(f\"{name[0]} {name[1]}\")\n",
    "print(\"\\nDID NOT RSVP:\")\n",
    "for name in list(names2.difference(names1)):\n",
    "    print(f\"{name[0]} {name[1]}\")"
   ]
  }
 ],
 "metadata": {
  "kernelspec": {
   "display_name": "Python 3 (ipykernel)",
   "language": "python",
   "name": "python3"
  },
  "language_info": {
   "codemirror_mode": {
    "name": "ipython",
    "version": 3
   },
   "file_extension": ".py",
   "mimetype": "text/x-python",
   "name": "python",
   "nbconvert_exporter": "python",
   "pygments_lexer": "ipython3",
   "version": "3.9.15"
  }
 },
 "nbformat": 4,
 "nbformat_minor": 5
}
